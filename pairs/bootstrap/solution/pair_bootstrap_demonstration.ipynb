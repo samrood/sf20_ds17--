{
 "cells": [
  {
   "cell_type": "markdown",
   "metadata": {},
   "source": [
    "Let's bootstrap!  Recall that bootstrapping is sampling with replacement from a dataset to produce a new dataset. Bootstrapping is used in random forests to guard against overfitting. It also has wide application in many other areas of statistics - let's see two of them.\n",
    "\n",
    "1) Produce a bootstrapped estimate of the median and 95 percent confidence interval over the median of the dependent variable in the [attached dataset](pair_boot.csv).\n",
    "\n",
    "2) Use the attached data to run the linear model y = xb. Produce bootstrapped estimates of the model parameters, b, and a 95% confidence interval over them."
   ]
  },
  {
   "cell_type": "code",
   "execution_count": null,
   "metadata": {},
   "outputs": [],
   "source": [
    "import numpy as np\n",
    "import matplotlib.pyplot as plt"
   ]
  },
  {
   "cell_type": "code",
   "execution_count": null,
   "metadata": {},
   "outputs": [],
   "source": [
    "# makes data\n",
    "def maker(N,n_vars):\n",
    "    \"\"\"A function to generate Monte Carlo linear regression data\"\"\"\n",
    "    x = []    #an empty list to hold the data\n",
    "    y = np.zeros(N)    #an array to hold the dependent variable\n",
    "    b = []    #an empty list to hold the true bs\n",
    "    i = 1\n",
    "    while i <= n_vars:    #loop over the variables we want to create\n",
    "        x_i = np.random.normal(loc = 0.0, scale = 1.0, size = N)    #generate the data\n",
    "        x.append(x_i)    #add it to the list of data\n",
    "        b_i = np.random.normal(loc = 0.0, scale = 1.0)    #draw a random effect for this variable\n",
    "        b.append(b_i)    #add it to the list of effects\n",
    "        y = y + b_i*x_i    #add the variable effect to the dependent variable\n",
    "        i += 1    #index up i\n",
    "    \n",
    "    x.append(np.ones(N))    #and a column of ones for a constant\n",
    "    b_i = np.random.normal(loc = 0.0, scale = 1.0)    #draw a random intercept\n",
    "    b.append(b_i)    #append this intercept to the effects\n",
    "    y = b_i + y + np.random.normal(loc = 0.0, scale = 1.0, size = N)    #add the normally distributed error term and the intercept\n",
    "    return [np.array(x).T,np.array(y),np.array(b)]"
   ]
  },
  {
   "cell_type": "code",
   "execution_count": null,
   "metadata": {},
   "outputs": [],
   "source": [
    "def bootstrapped_median_CI(y,n_boot):\n",
    "    \"\"\"A function to produce a bootstrapped 95% CI over the median of a dataset.\n",
    "    Takes in:\n",
    "    y: an array or list of data from which you want to compute the median\n",
    "    n_boot: the number of bootstrap iterations\n",
    "    \"\"\"\n",
    "    medians = []    #an empty list to hold the medians\n",
    "    for _ in range(n_boot):    #loop over the number of bootstraps\n",
    "        medians.append(     np.median(   y[np.random.randint(0,len(y),len(y)-1)]   ))    #sample the data and compute the median\n",
    "    return [np.mean(medians),np.percentile(medians,97.5),np.percentile(medians,2.5)]#,medians]"
   ]
  },
  {
   "cell_type": "code",
   "execution_count": null,
   "metadata": {},
   "outputs": [],
   "source": [
    "def bootstrapped_regression(X,y,n_boot):\n",
    "    \"\"\"A function to produce a bootstrapped 95% CI over regression coefficients.\n",
    "    Takes in:\n",
    "    X: an aray of data on the dependent variable\n",
    "    y: an array or list of data for the dependent variable\n",
    "    n_boot: the number of bootstrap iterations\n",
    "    \"\"\"\n",
    "    coefficients = []    #an empty list to hold the coefficients\n",
    "    for _ in range(n_boot):    #loop over the number of bootstraps\n",
    "        boot = np.random.randint(0,len(y)-1,len(y))    #sample the data\n",
    "        y_boot = y[boot]    #take the sampled ys\n",
    "        X_boot = X[boot]    #take the sampled xs\n",
    "        coefficients.append(np.linalg.inv(X_boot.T.dot(X_boot)).dot(X_boot.T.dot(y_boot)))    #compute the regression coefficients\n",
    "    return [np.mean(np.array(coefficients).T,1),np.percentile(np.array(coefficients).T,97.5,1),np.percentile(np.array(coefficients).T,2.5,1)]"
   ]
  },
  {
   "cell_type": "code",
   "execution_count": null,
   "metadata": {},
   "outputs": [],
   "source": [
    "N = 1000    #number of observations\n",
    "n_vars = 5    #number of variables\n",
    "Data = maker(N,n_vars)    #call the function to make the data\n",
    "X = Data[0]\n",
    "y = Data[1]"
   ]
  },
  {
   "cell_type": "code",
   "execution_count": null,
   "metadata": {},
   "outputs": [],
   "source": [
    "bootstrapped_median_CI(y=y,n_boot=100)"
   ]
  },
  {
   "cell_type": "code",
   "execution_count": null,
   "metadata": {},
   "outputs": [],
   "source": [
    "bootstrapped_regression(X=X,y=y,n_boot=100)"
   ]
  },
  {
   "cell_type": "code",
   "execution_count": null,
   "metadata": {},
   "outputs": [],
   "source": [
    "# true median\n",
    "np.median(y)"
   ]
  },
  {
   "cell_type": "code",
   "execution_count": null,
   "metadata": {},
   "outputs": [],
   "source": [
    "# true coefficients\n",
    "np.linalg.inv(X.T.dot(X)).dot(X.T.dot(y))"
   ]
  },
  {
   "cell_type": "code",
   "execution_count": null,
   "metadata": {},
   "outputs": [],
   "source": []
  }
 ],
 "metadata": {
  "kernelspec": {
   "display_name": "metis",
   "language": "python",
   "name": "metis"
  },
  "language_info": {
   "codemirror_mode": {
    "name": "ipython",
    "version": 3
   },
   "file_extension": ".py",
   "mimetype": "text/x-python",
   "name": "python",
   "nbconvert_exporter": "python",
   "pygments_lexer": "ipython3",
   "version": "3.5.6"
  }
 },
 "nbformat": 4,
 "nbformat_minor": 1
}
